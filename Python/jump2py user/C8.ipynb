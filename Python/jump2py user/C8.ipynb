{
 "cells": [
  {
   "cell_type": "markdown",
   "metadata": {},
   "source": [
    "정규표현식"
   ]
  },
  {
   "cell_type": "code",
   "execution_count": 5,
   "metadata": {},
   "outputs": [
    {
     "name": "stdout",
     "output_type": "stream",
     "text": [
      "['']\n",
      "['']\n",
      "['park']\n",
      "['park', '800905-*******']\n",
      "['', 'park800905-*******']\n",
      "['kim']\n",
      "['kim', '700905-*******']\n",
      "['', 'park800905-*******', 'kim700905-*******']\n",
      "['']\n",
      "['', 'park800905-*******', 'kim700905-*******', '']\n",
      "\n",
      "park800905-*******\n",
      "kim700905-*******\n",
      "\n"
     ]
    }
   ],
   "source": [
    "data = \"\"\"\n",
    "park 800905-1049118\n",
    "kim 700905-1059119\n",
    "\"\"\"\n",
    "\n",
    "result = []\n",
    "for line in data.split(\"\\n\"): #['park 800905-1049118', 'kim 700905-1059119']\n",
    "    word_result = []\n",
    "    for word in line.split(\" \"):#[['park, 800905-1049118], ['kim', '700905-1059119']]\n",
    "        if len(word) == 14 and word[:6].isdigit() and word[7:].isdigit(): #주민등록번호 앞뒤 체크\n",
    "            word = word[:6] + \"-\" + \"*******\"#주민등록번호 앞+뒤(검열)\n",
    "        word_result.append(word) #['park 800905-*******', 'kim 700905-*******']\n",
    "        print(word_result)\n",
    "    result.append(\" \".join(word_result))\n",
    "    print(result)\n",
    "print(\"\\n\".join(result))"
   ]
  },
  {
   "cell_type": "code",
   "execution_count": 94,
   "metadata": {},
   "outputs": [
    {
     "name": "stdout",
     "output_type": "stream",
     "text": [
      "<class 're.Pattern'>\n",
      "\n",
      "park 800905-*******\n",
      "kim 700905-*******\n",
      "\n"
     ]
    }
   ],
   "source": [
    "import re\n",
    "data = \"\"\"\n",
    "park 800905-1049118\n",
    "kim 700905-1059119\n",
    "\"\"\"\n",
    "pat = re.compile(r\"(\\d{6})[-]\\d{7}\")\n",
    "print(type(pat))\n",
    "print(pat.sub(r\"\\g<1>-*******\", data))"
   ]
  },
  {
   "cell_type": "markdown",
   "metadata": {},
   "source": [
    "메타문자"
   ]
  },
  {
   "cell_type": "code",
   "execution_count": 18,
   "metadata": {},
   "outputs": [],
   "source": [
    "# [ ] : 문자 클래스\n",
    "#[abc] => a, b, c, 중 한개의 문자와 매치\n",
    "#\"a\"=> 매치, \"before\"=> 매치, \"dude\"=>매치x\n",
    "#두 문자 사이에 하이픈 [a-c]=>[abc]; [1-6]=>[123456]\n",
    "# 모든 알파벳: [a-zA-Z] 모든 숫자: [0-9]\n",
    "# ^는 반대 논리연산 [^0-9]=> 숫자가 아닌것들; 문자만"
   ]
  },
  {
   "cell_type": "code",
   "execution_count": null,
   "metadata": {},
   "outputs": [],
   "source": [
    "#자주 사용하는 문자 클래스\n",
    "\n",
    "#\\d - 숫자와 매치 [0-9]\n",
    "# \\D - 숫자가 아닌것과 매치 [^0-9]\n",
    "# \\s - 화이트 스페이스(공백, 탭, 뉴라인 등) 문자와 매치 [ \\t\\n\\r\\f\\v] (\\r = 캐리지리턴, 현재 위치를 문자열의 맨 처음으로; ctrl <-  \\f = 페이지 넘김 \\v = 수직탭)\n",
    "# \\S - 화이트 스페이스가 아닌 문자 [^ \\t\\n\\r\\f\\v]\n",
    "# \\w - 문자+숫자 [a-zA-Z0-9_]\n",
    "# \\W - 문자+숫자가 아닌 문자 [^a-zA-Z0-9_]"
   ]
  },
  {
   "cell_type": "code",
   "execution_count": 19,
   "metadata": {},
   "outputs": [],
   "source": [
    "# .(dot)은 \\n을 제외한 모든 문자\n",
    "\n",
    "#a.b => \"a+모든문자+b\"\n",
    "# aab=>매치\n",
    "# a0b=>매치\n",
    "# abc=>매치x\n",
    "\n",
    "#반면 a[.]b => \"a\"+\".\"+\"b\""
   ]
  },
  {
   "cell_type": "markdown",
   "metadata": {},
   "source": [
    "반복"
   ]
  },
  {
   "cell_type": "code",
   "execution_count": 20,
   "metadata": {},
   "outputs": [],
   "source": [
    "# *문자\n",
    "\n",
    "# ca*t => a가 n번 반복되면 매치, 0포함\n",
    "# ct =>매치\n",
    "# cat =>매치\n",
    "# caat =>매치\n",
    "# caaat =>매치"
   ]
  },
  {
   "cell_type": "code",
   "execution_count": 21,
   "metadata": {},
   "outputs": [],
   "source": [
    "# +문자\n",
    "\n",
    "# 1번 이상 반복\n",
    "# ca+t는 ct와 매치되지 않음"
   ]
  },
  {
   "cell_type": "code",
   "execution_count": 22,
   "metadata": {},
   "outputs": [],
   "source": [
    "# {}\n",
    "# {2} => 반복횟수가 2인것만\n",
    "# {,3}=> 반복횟수가 3 이하\n",
    "# {1,}=>반복횟수가 1부터 무한대(약 2억 미만), +\n",
    "# {0,}=>*\n"
   ]
  },
  {
   "cell_type": "code",
   "execution_count": null,
   "metadata": {},
   "outputs": [],
   "source": [
    "# ? = {0,1}\n",
    "#바로 앞글자가 있어도 되고 없어도 됨\n"
   ]
  },
  {
   "cell_type": "markdown",
   "metadata": {},
   "source": [
    "파이썬에서 정규표현식"
   ]
  },
  {
   "cell_type": "code",
   "execution_count": 27,
   "metadata": {},
   "outputs": [],
   "source": [
    "import re\n",
    "p = re.compile('ab*')"
   ]
  },
  {
   "cell_type": "code",
   "execution_count": null,
   "metadata": {},
   "outputs": [],
   "source": [
    ".match() #문자열의 처음부터 정규식과 매치되는지 조사\n",
    ".search() #문자열의 전체를 검색해 정규식과 매치되는지 조사\n",
    ".findall() #정규식과 매치되는 모든 문자열을 리스트로 리턴\n",
    ".finditer() # 정규식과 매치되는 모든 문자열을 iter로 리턴"
   ]
  },
  {
   "cell_type": "code",
   "execution_count": 32,
   "metadata": {},
   "outputs": [
    {
     "name": "stdout",
     "output_type": "stream",
     "text": [
      "None\n",
      "<re.Match object; span=(0, 6), match='python'>\n"
     ]
    }
   ],
   "source": [
    "import re\n",
    "p = re.compile('[a-z]+')\n",
    "m = p.match(\"3 python\")\n",
    "print(m)\n",
    "m = p.match(\"python\")\n",
    "print(m)"
   ]
  },
  {
   "cell_type": "code",
   "execution_count": 60,
   "metadata": {},
   "outputs": [
    {
     "name": "stdout",
     "output_type": "stream",
     "text": [
      "Match found:  python\n",
      "<re.Match object; span=(2, 8), match='python'>\n",
      "['ife', 'is', 'too', 'short']\n",
      "<re.Match object; span=(1, 4), match='ife'>\n",
      "<re.Match object; span=(5, 7), match='is'>\n",
      "<re.Match object; span=(8, 11), match='too'>\n",
      "<re.Match object; span=(12, 17), match='short'>\n"
     ]
    }
   ],
   "source": [
    "import re\n",
    "p = re.compile('[a-z]+')\n",
    "m = p.match('python py df')\n",
    "if m:\n",
    "    print('Match found: ', m.group()) #.group() 매칭된 문자열 전체\n",
    "else:\n",
    "    print('No Match')\n",
    "\n",
    "m = p.search('3 python Life is too short')\n",
    "print(m) #한개만 리턴\n",
    "\n",
    "result = p.findall(\"Life is too short\")\n",
    "print(result)\n",
    "\n",
    "result = p.finditer(\"Life is too short\")\n",
    "for r in result: print(r) #각각의 match 객체를 iter"
   ]
  },
  {
   "cell_type": "markdown",
   "metadata": {},
   "source": [
    "match 객체의 메서드"
   ]
  },
  {
   "cell_type": "code",
   "execution_count": 64,
   "metadata": {},
   "outputs": [
    {
     "name": "stdout",
     "output_type": "stream",
     "text": [
      "python\n",
      "0\n",
      "6\n",
      "(0, 6)\n"
     ]
    }
   ],
   "source": [
    "import re\n",
    "p = re.compile('[a-z]+')\n",
    "m = p.match(\"python\")\n",
    "print(m.group())\n",
    "\n",
    "print(m.start())\n",
    "print(m.end())\n",
    "print(m.span())"
   ]
  },
  {
   "cell_type": "code",
   "execution_count": 66,
   "metadata": {},
   "outputs": [
    {
     "name": "stdout",
     "output_type": "stream",
     "text": [
      "<re.Match object; span=(0, 6), match='python'>\n"
     ]
    }
   ],
   "source": [
    "#컴파일과 메서드 동시수행\n",
    "import re\n",
    "m = re.match('[a-z]+', 'python')\n",
    "print(m)"
   ]
  },
  {
   "cell_type": "markdown",
   "metadata": {},
   "source": [
    "컴파일 옵션"
   ]
  },
  {
   "cell_type": "code",
   "execution_count": 68,
   "metadata": {},
   "outputs": [
    {
     "name": "stdout",
     "output_type": "stream",
     "text": [
      "None\n"
     ]
    }
   ],
   "source": [
    "#DOTALL, S\n",
    "\n",
    "#. 메타문자는 \\n을 제외한 모든 문자와 매치\n",
    "#\\n도 포함하고 싶다면 re.DOTALL 혹은 re.S\n",
    "\n",
    "import re\n",
    "p = re.compile('a.b')\n",
    "m = p.match('a\\nb')\n",
    "print(m)"
   ]
  },
  {
   "cell_type": "code",
   "execution_count": 70,
   "metadata": {},
   "outputs": [
    {
     "name": "stdout",
     "output_type": "stream",
     "text": [
      "<re.Match object; span=(0, 3), match='a\\nb'>\n"
     ]
    }
   ],
   "source": [
    "import re\n",
    "p = re.compile('a.b', re.DOTALL)\n",
    "m = p.match('a\\nb')\n",
    "print(m)"
   ]
  },
  {
   "cell_type": "code",
   "execution_count": 73,
   "metadata": {},
   "outputs": [
    {
     "name": "stdout",
     "output_type": "stream",
     "text": [
      "<re.Match object; span=(0, 6), match='PYtHON'>\n"
     ]
    }
   ],
   "source": [
    "#IGNORECASE, I\n",
    "#대소문자 구별없이 매치 수행\n",
    "\n",
    "import re\n",
    "p = re.compile('[a-z]+', re.IGNORECASE)\n",
    "m = p.match('PYtHON')\n",
    "print(m)"
   ]
  },
  {
   "cell_type": "code",
   "execution_count": 92,
   "metadata": {},
   "outputs": [
    {
     "name": "stdout",
     "output_type": "stream",
     "text": [
      "['python one']\n"
     ]
    }
   ],
   "source": [
    "#MULTILINE, M\n",
    "#--검색할문자열에서 ^python이면 문자열이 반드시 python으로 시작, python$이면 문자열이 반드시 python으로 끝\n",
    "\n",
    "import re\n",
    "p = re.compile(r'^python\\s\\w+')\n",
    "data = '''python one\n",
    "life is too short\n",
    "python two\n",
    "you need python\n",
    "python three\n",
    "'''\n",
    "print(p.findall(data))"
   ]
  },
  {
   "cell_type": "code",
   "execution_count": 91,
   "metadata": {},
   "outputs": [
    {
     "name": "stdout",
     "output_type": "stream",
     "text": [
      "['python one', 'python two', 'python three']\n"
     ]
    }
   ],
   "source": [
    "import re\n",
    "p = re.compile(r'^python\\s\\w+', re.MULTILINE)\n",
    "data = '''python one\n",
    "life is too short\n",
    "python two\n",
    "you need python\n",
    "python three\n",
    "'''\n",
    "print(p.findall(data))\n",
    "\n",
    "#^python\\s\\w+ 이 문자열 전체의 처음이 아니라 각 줄의 처음으로"
   ]
  },
  {
   "cell_type": "code",
   "execution_count": 79,
   "metadata": {},
   "outputs": [],
   "source": [
    "#VERBOSE, X\n",
    "charref = re.compile(r'&[#](0[0-7]+|[0-9]+|x[0-9a-fA-F]+);')"
   ]
  },
  {
   "cell_type": "code",
   "execution_count": null,
   "metadata": {},
   "outputs": [],
   "source": [
    "charref = re.compile(r\"\"\"\n",
    "&[#] # Start of a numeric entity reference\n",
    "(\n",
    "0[0-7]+ # Octal form\n",
    "| [0-9]+ # Decimal form\n",
    "| x[0-9a-fA-F]+ # Hexadecimal form\n",
    ")\n",
    "; # Trailing semicolon\n",
    "\"\"\", re.VERBOSE)"
   ]
  },
  {
   "cell_type": "markdown",
   "metadata": {},
   "source": [
    "역슬레시 문제"
   ]
  },
  {
   "cell_type": "code",
   "execution_count": 80,
   "metadata": {},
   "outputs": [],
   "source": [
    "#문자 \\를 찾으려면 \\\\로 표현해야하지만, 파이썬에서는 \\\\이 \\로 변경되므로, \\\\\\\\ 역슬레시 4개 사용 혹은 r'\\\\' 사용(r-string)"
   ]
  },
  {
   "cell_type": "markdown",
   "metadata": {},
   "source": [
    "문자열 소비가 없는 메타문자"
   ]
  },
  {
   "cell_type": "code",
   "execution_count": 83,
   "metadata": {},
   "outputs": [
    {
     "name": "stdout",
     "output_type": "stream",
     "text": [
      "<re.Match object; span=(0, 4), match='Crow'>\n"
     ]
    }
   ],
   "source": [
    "# |\n",
    "import re\n",
    "p = re.compile('Crow|Servo')\n",
    "m = p.match('Crowhello')\n",
    "print(m)"
   ]
  },
  {
   "cell_type": "code",
   "execution_count": 86,
   "metadata": {},
   "outputs": [
    {
     "name": "stdout",
     "output_type": "stream",
     "text": [
      "<re.Match object; span=(0, 4), match='Life'>\n",
      "None\n"
     ]
    }
   ],
   "source": [
    "# ^\n",
    "import re\n",
    "print(re.search('^Life', 'Life is too short'))\n",
    "print(re.search('^Life', 'my Life'))\n"
   ]
  },
  {
   "cell_type": "code",
   "execution_count": 88,
   "metadata": {},
   "outputs": [
    {
     "name": "stdout",
     "output_type": "stream",
     "text": [
      "<re.Match object; span=(12, 17), match='short'>\n",
      "None\n"
     ]
    }
   ],
   "source": [
    "# $\n",
    "import re\n",
    "print(re.search('short$', 'Life is too short'))\n",
    "print(re.search('short$', 'short my Life'))"
   ]
  },
  {
   "cell_type": "code",
   "execution_count": 89,
   "metadata": {},
   "outputs": [],
   "source": [
    "# \\A : 문자열의 처음과 매치, MULTILINE을 사용해도 마찬가지\n",
    "# \\Z : 문자열의 끝과 매치, MULTILINE을 사용해도 마찬가지\n"
   ]
  },
  {
   "cell_type": "code",
   "execution_count": 96,
   "metadata": {},
   "outputs": [
    {
     "name": "stdout",
     "output_type": "stream",
     "text": [
      "<re.Match object; span=(3, 8), match='class'>\n",
      "None\n"
     ]
    }
   ],
   "source": [
    "#\\b : 단어구분자, 단어 앞뒤 화이트스페이스\n",
    "\n",
    "import re\n",
    "p = re.compile(r'\\bclass\\b')\n",
    "print(p.search('no class at all'))\n",
    "\n",
    "print(p.search('the declassified algorithm')) #\\bclass\\b는 따라서 class라는 온전한 하나의 단어를 의미"
   ]
  },
  {
   "cell_type": "code",
   "execution_count": 97,
   "metadata": {},
   "outputs": [
    {
     "name": "stdout",
     "output_type": "stream",
     "text": [
      "None\n",
      "<re.Match object; span=(6, 11), match='class'>\n"
     ]
    }
   ],
   "source": [
    "#\\B : 단어가 아닌경우만\n",
    "\n",
    "import re\n",
    "p = re.compile(r'\\Bclass\\B')\n",
    "print(p.search('no class at all'))\n",
    "\n",
    "print(p.search('the declassified algorithm'))"
   ]
  },
  {
   "cell_type": "markdown",
   "metadata": {},
   "source": [
    "그루핑"
   ]
  },
  {
   "cell_type": "code",
   "execution_count": 100,
   "metadata": {},
   "outputs": [
    {
     "name": "stdout",
     "output_type": "stream",
     "text": [
      "<re.Match object; span=(0, 9), match='ABCABCABC'>\n",
      "ABCABCABC\n"
     ]
    }
   ],
   "source": [
    "#()로 묶으면됨\n",
    "\n",
    "import re\n",
    "p = re.compile('(ABC)+')\n",
    "m = p.search('ABCABCABC OK>')\n",
    "print(m)\n",
    "\n",
    "print(m.group())"
   ]
  },
  {
   "cell_type": "code",
   "execution_count": 106,
   "metadata": {},
   "outputs": [
    {
     "name": "stdout",
     "output_type": "stream",
     "text": [
      "park 010-1234-1234\n"
     ]
    }
   ],
   "source": [
    "import re\n",
    "p = re.compile(r\"(\\w+)\\s+\\d+[-]\\d+[-]\\d+\")\n",
    "m = p.search(\"park 010-1234-1234\")\n",
    "print(m.group(1))\n",
    "#그루핑은 단순히 묶어주는 거 이외에도 그룹 순번을 저장해줌"
   ]
  },
  {
   "cell_type": "code",
   "execution_count": 110,
   "metadata": {},
   "outputs": [
    {
     "data": {
      "text/plain": [
       "'the the'"
      ]
     },
     "execution_count": 110,
     "metadata": {},
     "output_type": "execute_result"
    }
   ],
   "source": [
    "import re\n",
    "p = re.compile(r'(\\b\\w+)\\s+\\1')\n",
    "p.search('Paris in the the spring').group()\n",
    "\n",
    "#\\1로 첫번째 그룹을 반복"
   ]
  },
  {
   "cell_type": "code",
   "execution_count": 118,
   "metadata": {},
   "outputs": [
    {
     "name": "stdout",
     "output_type": "stream",
     "text": [
      "park\n"
     ]
    },
    {
     "data": {
      "text/plain": [
       "'the the'"
      ]
     },
     "execution_count": 118,
     "metadata": {},
     "output_type": "execute_result"
    }
   ],
   "source": [
    "#그룹에 이름붙이기 : (P<name>)\n",
    "\n",
    "p = re.compile(r'(?P<name>\\w+)\\s+((\\d+)[-]\\d+[-]\\d+)')\n",
    "m = p.search(\"park 010-1234-1234\")\n",
    "print(m.group(\"name\"))\n",
    "\n",
    "p  = re.compile(r'(?P<word>\\b\\w+)\\s+(?P=word)')\n",
    "p.search('Paris in the the spring').group()"
   ]
  },
  {
   "cell_type": "markdown",
   "metadata": {},
   "source": [
    "전방 탐색"
   ]
  },
  {
   "cell_type": "code",
   "execution_count": 119,
   "metadata": {},
   "outputs": [
    {
     "name": "stdout",
     "output_type": "stream",
     "text": [
      "http\n"
     ]
    }
   ],
   "source": [
    "# 긍정형 전방 탐색 ; ?=...\n",
    "# 부정형 전방 탐색 ; ?!...\n",
    "\n",
    "import re\n",
    "p = re.compile(\".+(?=:)\") #:는 검색에 포함되지만 검색결과에는 포함되지 않음; 소비되지 않음\n",
    "m = p.search(\"http://google.com\")\n",
    "print(m.group())\n",
    "\n",
    ".*[.]([^b].?.?|.[^a]?.?|..?[^t]?)$\n",
    ".*[.](?!bat$).*$\n"
   ]
  },
  {
   "cell_type": "markdown",
   "metadata": {},
   "source": [
    "문자열 바꾸기"
   ]
  },
  {
   "cell_type": "code",
   "execution_count": 121,
   "metadata": {},
   "outputs": [
    {
     "data": {
      "text/plain": [
       "'colour socks and colour shoes'"
      ]
     },
     "execution_count": 121,
     "metadata": {},
     "output_type": "execute_result"
    }
   ],
   "source": [
    "import re\n",
    "p = re.compile(r'(blue|white|red)')\n",
    "p.sub('colour', 'blue socks and red shoes')\n"
   ]
  },
  {
   "cell_type": "code",
   "execution_count": 123,
   "metadata": {},
   "outputs": [
    {
     "data": {
      "text/plain": [
       "'colour socks and red shoes'"
      ]
     },
     "execution_count": 123,
     "metadata": {},
     "output_type": "execute_result"
    }
   ],
   "source": [
    "import re\n",
    "p.sub('colour', 'blue socks and red shoes', count = 1)\n",
    "\n",
    "#subn은 튜플로 반환 결과(문자열, 바꾸기횟수)를 리턴\n"
   ]
  },
  {
   "cell_type": "code",
   "execution_count": 127,
   "metadata": {},
   "outputs": [
    {
     "name": "stdout",
     "output_type": "stream",
     "text": [
      "010-1234-1234 park\n"
     ]
    }
   ],
   "source": [
    "#참조구문 사용\n",
    "\n",
    "import re\n",
    "p = re.compile(r'(?P<name>\\w+)\\s+(?P<phone>(\\d+)[-]\\d+[-]\\d+)')\n",
    "print(p.sub(r\"\\g<phone> \\g<name>\", \"park 010-1234-1234\"))"
   ]
  },
  {
   "cell_type": "code",
   "execution_count": 128,
   "metadata": {},
   "outputs": [
    {
     "data": {
      "text/plain": [
       "'Call 0xffd2 for printing, 0xc000 for user code'"
      ]
     },
     "execution_count": 128,
     "metadata": {},
     "output_type": "execute_result"
    }
   ],
   "source": [
    "# 매개변수로 함수 넣기\n",
    "import re\n",
    "\n",
    "def hexrepl(match):\n",
    "    value = int(match.group())\n",
    "    return hex(value)\n",
    "\n",
    "p = re.compile(r'\\d+')\n",
    "p.sub(hexrepl, 'Call 65490 for printing, 49152 for user code')"
   ]
  },
  {
   "cell_type": "code",
   "execution_count": 135,
   "metadata": {},
   "outputs": [
    {
     "name": "stdout",
     "output_type": "stream",
     "text": [
      "(0, 32)\n",
      "(0, 6)\n"
     ]
    }
   ],
   "source": [
    "# Greedy와 non Greedy\n",
    "\n",
    "s = '<html><head><title>Title</title>'\n",
    "len(s)\n",
    "\n",
    "import re\n",
    "print(re.match(r'<.*>', s).span()) #==>문자열의 맨 마지막에 >가 있기 때문에 전체 문자열 출력\n",
    "print(re.match(r'<.*?>', s).span()) #? 후 만족하는 최소한의 문자열 출력\n"
   ]
  }
 ],
 "metadata": {
  "kernelspec": {
   "display_name": "Python 3",
   "language": "python",
   "name": "python3"
  },
  "language_info": {
   "codemirror_mode": {
    "name": "ipython",
    "version": 3
   },
   "file_extension": ".py",
   "mimetype": "text/x-python",
   "name": "python",
   "nbconvert_exporter": "python",
   "pygments_lexer": "ipython3",
   "version": "3.12.2"
  }
 },
 "nbformat": 4,
 "nbformat_minor": 2
}
