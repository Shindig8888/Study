{
 "cells": [
  {
   "cell_type": "code",
   "execution_count": null,
   "metadata": {},
   "outputs": [],
   "source": []
  },
  {
   "cell_type": "markdown",
   "metadata": {},
   "source": [
    "Q1 홀수, 짝수 판별하기\n"
   ]
  },
  {
   "cell_type": "code",
   "execution_count": null,
   "metadata": {},
   "outputs": [],
   "source": [
    "def is_odd(number):\n",
    "    if number%2==0:\n",
    "        print(\"짝수입니다\")\n",
    "    else:\n",
    "        print(\"홀수입니다\")\n",
    "\n",
    "is_odd(3)\n",
    "is_odd(999999999999999998)\n",
    "\n",
    "is_odd = lambda x: print(\"홀수입니다\") if x%2==1 else print(\"짝수입니다\")"
   ]
  },
  {
   "cell_type": "markdown",
   "metadata": {},
   "source": [
    "Q2 모든 입력의 평균값 구하기"
   ]
  },
  {
   "cell_type": "code",
   "execution_count": null,
   "metadata": {},
   "outputs": [],
   "source": [
    "def is_even(*number):\n",
    "    result = 0\n",
    "    for i in number:\n",
    "        result+=i\n",
    "    return result/len(number)\n",
    "        \n",
    "is_even(2,4)\n",
    "\n",
    "is_even(2,4,6,8)\n",
    "\n",
    "is_even(3,6,9)\n",
    "\n",
    "###정답이지만 def문에는 print보다는 return을 사용"
   ]
  },
  {
   "cell_type": "markdown",
   "metadata": {},
   "source": [
    "Q3 프로그램 오류 수정하기 1"
   ]
  },
  {
   "cell_type": "code",
   "execution_count": null,
   "metadata": {},
   "outputs": [],
   "source": [
    "imput1 = input(\"첫번째 숫자를 입력하세요 : \")\n",
    "imput2 = input(\"두번째 숫자를 입력하세요 : \")\n",
    "\n",
    "total = int(imput1)+int(imput2)\n",
    "print(total)"
   ]
  },
  {
   "cell_type": "markdown",
   "metadata": {},
   "source": [
    "Q4 출력 결과가 다른 것은?\n",
    "다음 중 출력 결과가 다른 하나를 골라 보자.\n",
    "1. print(\"you\"\"need\"\"python\")\n",
    "2. print(\"you\"+\"need\"+\"python\")\n",
    "3. print(\"you\", \"need\", \"python\")\n",
    "4. print(\"\".join([\"you\", \"need\", \"python\"]))"
   ]
  },
  {
   "cell_type": "code",
   "execution_count": null,
   "metadata": {},
   "outputs": [],
   "source": [
    "#3번, 나머지는 띄어쓰기가 없음\n",
    "###정답"
   ]
  },
  {
   "cell_type": "markdown",
   "metadata": {},
   "source": [
    "Q5 프로그램 오류 수정하기 2"
   ]
  },
  {
   "cell_type": "code",
   "execution_count": null,
   "metadata": {},
   "outputs": [],
   "source": [
    "f1 = open(\"test.txt\", 'w')\n",
    "f1.write(\"life is too short\")\n",
    "f1.close\n",
    "\n",
    "f2 = open(\"test.txt\", 'r')\n",
    "readline = f2.readlines()\n",
    "print(readline)\n",
    "f2.close\n",
    "\n",
    "f2 = open(\"test.txt\", 'r')\n",
    "readline = f2.readlines()\n",
    "print(f2.read())\n",
    "f2.close\n",
    "\n",
    "###close를 까먹지말기\n",
    "\n",
    "with open(\"test.txt\", 'w') as f1:\n",
    "    f1.write(\"Life is too short\")\n",
    "\n",
    "with open(\"test.txt\", 'r') as f2:\n",
    "    print(f2.read())\n",
    "\n",
    "###read 뒤에는()"
   ]
  },
  {
   "cell_type": "markdown",
   "metadata": {},
   "source": [
    "Q6 사용자 입력 저장하기"
   ]
  },
  {
   "cell_type": "code",
   "execution_count": null,
   "metadata": {},
   "outputs": [],
   "source": [
    "user_input = input(\"저장할 내용을 입력하세요 : \")\n",
    "f = open('test.txt', 'a')\n",
    "f.write(user_input)\n",
    "f.write(\"\\n\")\n",
    "f.close\n",
    "\n",
    "\n",
    "f2 = open(\"test.txt\", 'r')\n",
    "readline = f2.readlines()\n",
    "for i in readline:\n",
    "    print(i)\n",
    "f2.close\n",
    "\n",
    "with open(\"test.txt\", 'r') as f2:\n",
    "    readline = f2.readlines()\n",
    "    for i in readline:\n",
    "        print(i)\n"
   ]
  },
  {
   "cell_type": "markdown",
   "metadata": {},
   "source": [
    "Q7 파일의 문자열 바꾸기"
   ]
  },
  {
   "cell_type": "code",
   "execution_count": null,
   "metadata": {},
   "outputs": [],
   "source": [
    "\n",
    "###readlines()를 통해 list로 불러온 후 항목을 수정\n",
    "# 파일을 읽기 모드로 열고 모든 줄을 읽어옴\n",
    "f = open(\"test.txt\", 'r')\n",
    "body = f.readlines()\n",
    "f.close()\n",
    "print(body)\n",
    "# 두 번째 줄을 변경함\n",
    "body[1] = \"you need python\\n\"\n",
    "# 파일을 쓰기 모드로 다시 열고 변경된 내용을 기록함\n",
    "f = open(\"test.txt\", 'w')\n",
    "f.writelines(body)\n",
    "f.close()\n",
    "\n",
    "###read를 통해 str 문자열로 불러온 후 수정하기 replace사용\n",
    "# 파일을 읽기 모드로 열고 모든 내용을 읽어옴\n",
    "with open(\"test.txt\", 'r') as f:\n",
    "    content = f.read()\n",
    "# 변경할 문자열을 포함하는 문자열 생성\n",
    "new_content = content.replace(\"a\", \"you need python\")\n",
    "print(new_content)\n",
    "# 파일을 쓰기 모드로 열고 변경된 내용을 기록함\n",
    "with open(\"test.txt\", 'w') as f:\n",
    "    f.write(new_content)\n"
   ]
  },
  {
   "cell_type": "markdown",
   "metadata": {},
   "source": [
    "Q8 입력값을 모두 더해 출력하기"
   ]
  },
  {
   "cell_type": "code",
   "execution_count": null,
   "metadata": {},
   "outputs": [],
   "source": [
    "import sys\n",
    "\n",
    "numnbers = sys.argv[1:]\n",
    "\n",
    "result = 0\n",
    "for number in numnbers:\n",
    "    result += int(number)\n",
    "\n",
    "print(result)"
   ]
  },
  {
   "cell_type": "code",
   "execution_count": null,
   "metadata": {},
   "outputs": [],
   "source": []
  }
 ],
 "metadata": {
  "language_info": {
   "name": "python"
  }
 },
 "nbformat": 4,
 "nbformat_minor": 2
}
