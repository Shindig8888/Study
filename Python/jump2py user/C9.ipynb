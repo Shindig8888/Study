{
 "cells": [
  {
   "cell_type": "markdown",
   "metadata": {},
   "source": [
    "Q1 문자열바꾸기"
   ]
  },
  {
   "cell_type": "code",
   "execution_count": 13,
   "metadata": {},
   "outputs": [
    {
     "name": "stdout",
     "output_type": "stream",
     "text": [
      "['a', 'b', 'c', 'd']\n",
      "a#b#c#d\n"
     ]
    }
   ],
   "source": [
    "munja = \"a:b:c:d\"\n",
    "n_munja = munja.split(':')\n",
    "print(n_munja)\n",
    "print('#'.join(n_munja))\n"
   ]
  },
  {
   "cell_type": "markdown",
   "metadata": {},
   "source": [
    "Q2 딕셔너리값 추출"
   ]
  },
  {
   "cell_type": "code",
   "execution_count": 20,
   "metadata": {},
   "outputs": [
    {
     "name": "stdout",
     "output_type": "stream",
     "text": [
      "70\n"
     ]
    }
   ],
   "source": [
    "a = {'A':90, 'B':80}\n",
    "a.update({'C':70})\n",
    "print(a['C'])"
   ]
  },
  {
   "cell_type": "markdown",
   "metadata": {},
   "source": [
    "Q3 리스트의 더하기와 extend 함수"
   ]
  },
  {
   "cell_type": "code",
   "execution_count": 27,
   "metadata": {},
   "outputs": [
    {
     "name": "stdout",
     "output_type": "stream",
     "text": [
      "[2, 3, 4, 1, 5]\n"
     ]
    }
   ],
   "source": [
    "# +는 연산자로서 리턴값을 가진다는 점==변수지정으로 그 변수에 저장, extend는 함수로서 기존 리스트에 업데이트한다는점 이외에는 없는듯?"
   ]
  },
  {
   "cell_type": "markdown",
   "metadata": {},
   "source": [
    "Q4 리스트 총합 구하기"
   ]
  },
  {
   "cell_type": "code",
   "execution_count": 29,
   "metadata": {},
   "outputs": [
    {
     "name": "stdout",
     "output_type": "stream",
     "text": [
      "481\n"
     ]
    }
   ],
   "source": [
    "A = [20,55,67,82,45,33,90,87,100,25]\n",
    "b = 0\n",
    "for a in A:\n",
    "    if a>=50:\n",
    "        b = b+a\n",
    "print (b)\n"
   ]
  },
  {
   "cell_type": "markdown",
   "metadata": {},
   "source": [
    "Q.5 피보나치 함수"
   ]
  },
  {
   "cell_type": "code",
   "execution_count": 32,
   "metadata": {},
   "outputs": [
    {
     "name": "stdout",
     "output_type": "stream",
     "text": [
      "[0, 1, 1, 2, 3, 5, 8]\n"
     ]
    }
   ],
   "source": [
    "def fibo(nn):\n",
    "    fib = []\n",
    "    for i in range(nn):\n",
    "        if i == 0 or i==1:\n",
    "            fib. append(i)\n",
    "        else:\n",
    "            fib.append(fib[-1]+fib[-2])\n",
    "    return fib\n",
    "\n",
    "\n",
    "n = input(\"몇 항까지 피보나치 함수를 출력하시겠습니까? : \" )\n",
    "result = fibo(int(n))\n",
    "print(result)"
   ]
  },
  {
   "cell_type": "markdown",
   "metadata": {},
   "source": [
    "Q6. 숫자의 총합 구하기"
   ]
  },
  {
   "cell_type": "code",
   "execution_count": 31,
   "metadata": {},
   "outputs": [
    {
     "name": "stdout",
     "output_type": "stream",
     "text": [
      "77\n"
     ]
    }
   ],
   "source": [
    "def sum_all(line):\n",
    "    linelist = line.split(',')\n",
    "    result = sum(map(int, linelist))\n",
    "    return result\n",
    "\n",
    "a = input(\"숫자를 띄어쓰기 없이 쉼표로 구분해서 입력해주세요: \")\n",
    "print(sum_all(a))\n"
   ]
  },
  {
   "cell_type": "markdown",
   "metadata": {},
   "source": [
    "Q7 한줄구구단"
   ]
  },
  {
   "cell_type": "code",
   "execution_count": 29,
   "metadata": {},
   "outputs": [
    {
     "name": "stdout",
     "output_type": "stream",
     "text": [
      "4 8 12 16 20 24 28 32 36 "
     ]
    }
   ],
   "source": [
    "def gugu(n: int)->int:\n",
    "    for i in range(1,10):\n",
    "        result = i*n\n",
    "        print(result, end=' ')\n",
    "\n",
    "guguin = input(\"구구단을 출력할 숫자를 입력하세요(2~9) : \")\n",
    "gugu(int(guguin))"
   ]
  },
  {
   "cell_type": "markdown",
   "metadata": {},
   "source": [
    "Q8 파일을 읽어 역순으로 저장"
   ]
  },
  {
   "cell_type": "code",
   "execution_count": null,
   "metadata": {},
   "outputs": [],
   "source": [
    "f = open('abc.txt', 'r')\n",
    "listed = f.read().split('\\n')\n",
    "f.close()\n",
    "print(listed)\n",
    "listed.reverse()\n",
    "wr = \"\\n\".join(listed)\n",
    "print(wr)\n",
    "f = open('abc.txt', 'w')\n",
    "f.write(wr)\n",
    "f.close"
   ]
  },
  {
   "cell_type": "markdown",
   "metadata": {},
   "source": [
    "Q9. 평균값 구하기"
   ]
  },
  {
   "cell_type": "code",
   "execution_count": null,
   "metadata": {},
   "outputs": [],
   "source": [
    "f = open('sample.txt', 'r')\n",
    "b = f.read()\n",
    "f.close()\n",
    "\n",
    "flist = b.split('\\n')\n",
    "print(flist)\n",
    "\n",
    "number_list = list(map(int,flist))\n",
    "print(number_list)\n",
    "\n",
    "average_value = sum(number_list) / len(number_list)\n",
    "print(average_value)\n",
    "\n",
    "f = open('result.txt', 'w')\n",
    "f.write(str(average_value))\n",
    "f.close"
   ]
  },
  {
   "cell_type": "markdown",
   "metadata": {},
   "source": [
    "Q10 계산기 만들기"
   ]
  },
  {
   "cell_type": "code",
   "execution_count": 25,
   "metadata": {},
   "outputs": [
    {
     "name": "stdout",
     "output_type": "stream",
     "text": [
      "15\n",
      "3.0\n",
      "40\n",
      "8.0\n"
     ]
    }
   ],
   "source": [
    "class Calculatior:\n",
    "    def __init__(self, listed_numbers):\n",
    "        self.listed_numbers = listed_numbers\n",
    "    def sum(self):\n",
    "        result = sum(self.listed_numbers)\n",
    "        print(result)\n",
    "    def avg(self):\n",
    "        result = sum(self.listed_numbers) / len(self.listed_numbers)\n",
    "        print(result)\n",
    "\n",
    "cal1 = Calculatior([1,2,3,4,5])\n",
    "cal1.sum()\n",
    "cal1.avg()\n",
    "cal2 = Calculatior([6,7,8,9,10])\n",
    "cal2.sum()\n",
    "cal2.avg()"
   ]
  },
  {
   "cell_type": "code",
   "execution_count": null,
   "metadata": {},
   "outputs": [],
   "source": []
  },
  {
   "cell_type": "markdown",
   "metadata": {},
   "source": [
    "Q11 모듈을 사용하는 방법법"
   ]
  },
  {
   "cell_type": "code",
   "execution_count": null,
   "metadata": {},
   "outputs": [],
   "source": [
    "# import os\n",
    "# os.path.append\n",
    "# from drectory import mymod"
   ]
  },
  {
   "cell_type": "markdown",
   "metadata": {},
   "source": [
    "Q12 오류와 예외처리"
   ]
  },
  {
   "cell_type": "code",
   "execution_count": 26,
   "metadata": {},
   "outputs": [
    {
     "name": "stdout",
     "output_type": "stream",
     "text": [
      "7\n"
     ]
    }
   ],
   "source": [
    "result = 0\n",
    "\n",
    "try:\n",
    "    [1,2,3][3]\n",
    "    \"a\"+1\n",
    "    4/0\n",
    "except TypeError:\n",
    "    result += 1\n",
    "except ZeroDivisionError:\n",
    "    result += 2\n",
    "except IndexError: #[1,2,3][3]이 가장먼저 try 되었기때문에 3더함\n",
    "    result += 3\n",
    "finally: #어떤 조건에서도 4더함\n",
    "    result += 4\n",
    "\n",
    "print(result) # ==7\n",
    "\n"
   ]
  },
  {
   "cell_type": "markdown",
   "metadata": {},
   "source": [
    "Q13 Dashline insert 함수"
   ]
  },
  {
   "cell_type": "code",
   "execution_count": 38,
   "metadata": {},
   "outputs": [
    {
     "name": "stdout",
     "output_type": "stream",
     "text": [
      "454*67-9-3\n"
     ]
    }
   ],
   "source": [
    "def dashline(inputed_string):\n",
    "    result = []\n",
    "    for i in range(len(inputed_string)):\n",
    "        index_value = inputed_string[i]\n",
    "        index_value_last = inputed_string[i-1]\n",
    "        if i == 0:\n",
    "            result.append(index_value)\n",
    "        else:\n",
    "            if int(index_value_last) % 2 ==0 and int(index_value) % 2 ==0:\n",
    "                result.append('*'+index_value)\n",
    "            elif int(index_value_last) % 2 !=0 and int(index_value) % 2 !=0:\n",
    "                result.append('-'+index_value)\n",
    "            else:\n",
    "                result.append(index_value)\n",
    "    return ''.join(result)\n",
    "            \n",
    "\n",
    "input_string = list(input(\"숫자를 공백없이 입력하세요 : \"))\n",
    "print(dashline(input_string))"
   ]
  },
  {
   "cell_type": "markdown",
   "metadata": {},
   "source": [
    "Q14 문자열 압축"
   ]
  },
  {
   "cell_type": "code",
   "execution_count": 46,
   "metadata": {},
   "outputs": [
    {
     "data": {
      "text/plain": [
       "'a10b5c2d2e1'"
      ]
     },
     "execution_count": 46,
     "metadata": {},
     "output_type": "execute_result"
    }
   ],
   "source": [
    "def compressionf(inputstr):\n",
    "    input_list = list(inputstr)\n",
    "    count = 1\n",
    "    result = []\n",
    "    for i in range(0, len(input_list)):\n",
    "        valueposition = input_list[i]\n",
    "        valuepositionlast = input_list[i-1]\n",
    "        if i == 0:\n",
    "            result.append(valueposition)\n",
    "        elif valueposition == valuepositionlast:\n",
    "            count+=1\n",
    "        elif valueposition != valuepositionlast:\n",
    "            result.append(str(count)+valueposition)\n",
    "            count = 1\n",
    "        if i == len(input_list)-1:\n",
    "            result.append(str(count))\n",
    "    return ''.join(result)\n",
    "\n",
    "\n",
    "a = input('문자를 입력하주세요 : ')\n",
    "compressionf(a)    \n"
   ]
  },
  {
   "cell_type": "markdown",
   "metadata": {},
   "source": [
    "Q15 Duplicate numbers"
   ]
  },
  {
   "cell_type": "code",
   "execution_count": 53,
   "metadata": {},
   "outputs": [
    {
     "name": "stdout",
     "output_type": "stream",
     "text": [
      "True True\n"
     ]
    }
   ],
   "source": [
    "def dup_numbers(number_list):\n",
    "    is_not_dup = True\n",
    "    bullcount = []\n",
    "    for num in range(0,10):\n",
    "        count = 0        \n",
    "        for i in number_list:\n",
    "            j = int(i)\n",
    "            if j == num:\n",
    "                count+=1\n",
    "        if count == 1:\n",
    "            is_not_dup = True\n",
    "        else:\n",
    "            is_not_dup = False\n",
    "        bullcount.append(is_not_dup)\n",
    "    return(all(bullcount))\n",
    "\n",
    "\n",
    "def full_number(input_value):\n",
    "    input_list = input_value.split(' ')\n",
    "    result = []\n",
    "    for section in input_list:\n",
    "        dup_bul = str(dup_numbers(section))\n",
    "        result.append(dup_bul)\n",
    "    return result\n",
    "\n",
    "a = input(\"확인하고자 하는 숫자 배열을 공백을 이용해 구분해주세요 : \")\n",
    "\n",
    "b = \" \".join(full_number(a))\n",
    "print(b)"
   ]
  },
  {
   "cell_type": "markdown",
   "metadata": {},
   "source": [
    "Q16 모스부호\n"
   ]
  },
  {
   "cell_type": "code",
   "execution_count": 69,
   "metadata": {},
   "outputs": [
    {
     "name": "stdout",
     "output_type": "stream",
     "text": [
      "HE SLEEPS EARLY\n"
     ]
    }
   ],
   "source": [
    "morse_code = {\n",
    "    'A': '.-', 'B': '-...', 'C': '-.-.', 'D': '-..', 'E': '.', 'F': '..-.', 'G': '--.', 'H': '....',\n",
    "    'I': '..', 'J': '.---', 'K': '-.-', 'L': '.-..', 'M': '--', 'N': '-.', 'O': '---', 'P': '.--.',\n",
    "    'Q': '--.-', 'R': '.-.', 'S': '...', 'T': '-', 'U': '..-', 'V': '...-', 'W': '.--', 'X': '-..-',\n",
    "    'Y': '-.--', 'Z': '--..'\n",
    "}\n",
    "\n",
    "morse_code_flipped = {value: key for key, value in morse_code.items()}\n",
    "\n",
    "def morse_decode(morse_input):\n",
    "    result_alphabet = []\n",
    "    words = morse_input.split('  ')\n",
    "    for word in words:\n",
    "        alphabetlist = word.split(' ')\n",
    "        for alphabet in alphabetlist:\n",
    "            result_alphabet.append(morse_code_flipped[alphabet])\n",
    "        result_alphabet.append(' ')\n",
    "    result_alphabet[-1] = ''\n",
    "    result = ''.join(result_alphabet)\n",
    "    print(result)\n",
    "    \n",
    "    \n",
    "morse_decode(\".... .  ... .-.. . . .--. ...  . .- .-. .-.. -.--\")\n",
    "\n",
    "# morse_input = input(\"모스 부호를 입력해주세요! : \")\n",
    "# a = morse_input.split('  ')\n",
    "# print(a)\n"
   ]
  },
  {
   "cell_type": "markdown",
   "metadata": {},
   "source": [
    "Q17\n",
    "\n",
    "2번"
   ]
  },
  {
   "cell_type": "markdown",
   "metadata": {},
   "source": [
    "Q18\n",
    "3 / 8\n"
   ]
  },
  {
   "cell_type": "markdown",
   "metadata": {},
   "source": [
    "Q19"
   ]
  },
  {
   "cell_type": "code",
   "execution_count": 91,
   "metadata": {},
   "outputs": [
    {
     "name": "stdout",
     "output_type": "stream",
     "text": [
      "<re.Match object; span=(1, 19), match='park 010-9999-9988'>\n",
      "\n",
      "park 010-9999-####\n",
      "kim 010-9909-####\n",
      "lee 010-8789-####\n",
      "\n"
     ]
    }
   ],
   "source": [
    "a = \"\"\"\n",
    "park 010-9999-9988\n",
    "kim 010-9909-7789\n",
    "lee 010-8789-7768\n",
    "\"\"\"\n",
    "\n",
    "import re\n",
    "p = re.compile(r\"(\\w+\\s+\\d+[-]\\d+[-])(?P<phone>\\d+)\")\n",
    "m = p.search(a)\n",
    "\n",
    "print(m)\n",
    "\n",
    "print(p.sub(r\"\\g<1>####\", a))\n"
   ]
  },
  {
   "cell_type": "markdown",
   "metadata": {},
   "source": [
    "Q20\n"
   ]
  },
  {
   "cell_type": "code",
   "execution_count": 94,
   "metadata": {},
   "outputs": [
    {
     "name": "stdout",
     "output_type": "stream",
     "text": [
      "None\n"
     ]
    }
   ],
   "source": [
    "import re\n",
    "\n",
    "\n",
    "p = re.compile(r'.*[@].*[.](?!com$|net$).*$')\n",
    "m = p.search('park@naver.com')\n",
    "print(m)"
   ]
  }
 ],
 "metadata": {
  "kernelspec": {
   "display_name": "Python 3",
   "language": "python",
   "name": "python3"
  },
  "language_info": {
   "codemirror_mode": {
    "name": "ipython",
    "version": 3
   },
   "file_extension": ".py",
   "mimetype": "text/x-python",
   "name": "python",
   "nbconvert_exporter": "python",
   "pygments_lexer": "ipython3",
   "version": "3.12.2"
  }
 },
 "nbformat": 4,
 "nbformat_minor": 2
}
