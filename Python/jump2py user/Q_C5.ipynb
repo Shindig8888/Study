{
 "cells": [
  {
   "cell_type": "code",
   "execution_count": null,
   "metadata": {},
   "outputs": [],
   "source": []
  },
  {
   "cell_type": "markdown",
   "metadata": {},
   "source": [
    "Q1. 클래스 상속받고 메서드 추가하기 1"
   ]
  },
  {
   "cell_type": "code",
   "execution_count": null,
   "metadata": {},
   "outputs": [],
   "source": [
    "class Calculator:\n",
    "    def __init__(self):\n",
    "        self.value = 0\n",
    "    def add(self, val):\n",
    "        self.value += val\n",
    "\n",
    "class UpgradeCaculator(Calculator):\n",
    "    def minus(self, mval):\n",
    "        self.value -= mval\n",
    "\n",
    "cal = UpgradeCaculator()\n",
    "cal.value\n",
    "cal.add(10)\n",
    "cal.minus(7)\n",
    "\n",
    "print(cal.value)"
   ]
  },
  {
   "cell_type": "markdown",
   "metadata": {},
   "source": [
    "Q2. 클래스 상속받고 메서드 추가하기 2\n"
   ]
  },
  {
   "cell_type": "code",
   "execution_count": null,
   "metadata": {},
   "outputs": [],
   "source": [
    "class Calulator:\n",
    "    def __init__(self):\n",
    "        self.value = 0\n",
    "    def add(self, val):\n",
    "        self.value += val\n",
    "\n",
    "class MaxLimitCalculator(Calculator):\n",
    "    def add(self, val):\n",
    "        self.value += val\n",
    "        if self.value >=100:\n",
    "            self.value = 100\n",
    "cal = MaxLimitCalculator()\n",
    "cal.add(50)\n",
    "cal.add(60)\n",
    "print(cal.value)"
   ]
  },
  {
   "cell_type": "markdown",
   "metadata": {},
   "source": [
    "Q3. 참과 거짓 예측하기\n",
    "\n",
    "all([1, 2, abs(-3)-3])\n",
    "False\n",
    "\n",
    "chr(ord('a')) == 'a'\n",
    "True\n"
   ]
  },
  {
   "cell_type": "markdown",
   "metadata": {},
   "source": [
    "Q4. 음수 제거하기"
   ]
  },
  {
   "cell_type": "code",
   "execution_count": null,
   "metadata": {},
   "outputs": [],
   "source": [
    "a = list(filter(lambda x : x>0, [1,-2,3,-5,8,-3]))\n",
    "print(a)"
   ]
  },
  {
   "cell_type": "markdown",
   "metadata": {},
   "source": [
    "Q5. 16 진수를 10 진수로 변경하기"
   ]
  },
  {
   "cell_type": "code",
   "execution_count": null,
   "metadata": {},
   "outputs": [],
   "source": [
    "int('0xea', 16)"
   ]
  },
  {
   "cell_type": "markdown",
   "metadata": {},
   "source": [
    "Q6. 리스트 항목마다 3 곱하여 리턴하기"
   ]
  },
  {
   "cell_type": "code",
   "execution_count": null,
   "metadata": {},
   "outputs": [],
   "source": [
    "a = list(map(lambda x : x*3, [1,2,3,4]))\n",
    "print(a)"
   ]
  },
  {
   "cell_type": "markdown",
   "metadata": {},
   "source": [
    "Q7. 최댓값과 최솟값의 합\n"
   ]
  },
  {
   "cell_type": "code",
   "execution_count": null,
   "metadata": {},
   "outputs": [],
   "source": [
    "max_value = max([-8,2,7,5,-3,5,0,-1])\n",
    "min_value = min([-8,2,7,5,-3,5,0,-1])\n",
    "max_value+min_value"
   ]
  },
  {
   "cell_type": "markdown",
   "metadata": {},
   "source": [
    "Q8. 소수점 반올림하기\n"
   ]
  },
  {
   "cell_type": "code",
   "execution_count": null,
   "metadata": {},
   "outputs": [],
   "source": [
    "round_value = round(17/3, 4)\n",
    "print(round_value)"
   ]
  },
  {
   "cell_type": "markdown",
   "metadata": {},
   "source": [
    "Q9. 디렉터리 이동하고 파일 목록 출력하기"
   ]
  },
  {
   "cell_type": "code",
   "execution_count": null,
   "metadata": {},
   "outputs": [],
   "source": [
    "import os\n",
    "os.chdir(\"C:\\\\Users\\\\claix\\\\OneDrive\\\\Desktop\\\\Coddimg\\\\Study\")\n",
    "result = os.popen(\"dir\")"
   ]
  },
  {
   "cell_type": "markdown",
   "metadata": {},
   "source": [
    "Q10. 파일 확장자가.py 인 파일만 찾기"
   ]
  },
  {
   "cell_type": "code",
   "execution_count": null,
   "metadata": {},
   "outputs": [],
   "source": [
    "import glob\n",
    "glob.glob('*.py')"
   ]
  },
  {
   "cell_type": "markdown",
   "metadata": {},
   "source": [
    "Q11. 날짜 표시하기\n"
   ]
  },
  {
   "cell_type": "code",
   "execution_count": null,
   "metadata": {},
   "outputs": [],
   "source": [
    "import time\n",
    "time.strftime(\"%Y/%m/%d  %H:%M:%S\")"
   ]
  },
  {
   "cell_type": "markdown",
   "metadata": {},
   "source": [
    "Q12. 로또 번호 생성하기\n"
   ]
  },
  {
   "cell_type": "code",
   "execution_count": null,
   "metadata": {},
   "outputs": [],
   "source": [
    "import random\n",
    "result = []\n",
    "while len(result)<6:\n",
    "    num = random.randint(1,45)\n",
    "    if num not in result:\n",
    "        result.append(num)\n",
    "\n",
    "print(result)"
   ]
  },
  {
   "cell_type": "markdown",
   "metadata": {},
   "source": [
    "Q13. 누나는 영철이보다 며칠 더 먼저 태어났을까?"
   ]
  },
  {
   "cell_type": "code",
   "execution_count": null,
   "metadata": {},
   "outputs": [],
   "source": [
    "import datetime\n",
    "\n",
    "a = datetime.date(1995,11,20)\n",
    "b = datetime.date(1998, 10, 6)\n",
    "diff = a-b\n",
    "abs(diff)"
   ]
  },
  {
   "cell_type": "markdown",
   "metadata": {},
   "source": [
    "Q14. 기록순으로 정렬하기"
   ]
  },
  {
   "cell_type": "code",
   "execution_count": null,
   "metadata": {},
   "outputs": [],
   "source": [
    "data = [('윤 서 현', 15.25),\n",
    "            ('김 예 지', 13.31),\n",
    "            ('송 순 자', 15.57),\n",
    "            ('박 예 원', 15.34),\n",
    "            ('김 시 우', 15.48),\n",
    "            ('배 숙 자', 17.9),\n",
    "            ('전 정 웅', 13.39),\n",
    "            ('김 혜 진', 16.63),\n",
    "            ('최 보 람', 17.14),\n",
    "            ('한 지 영', 14.83),\n",
    "            ('이 성 호', 17.7),\n",
    "            ('김 옥 순', 16.71),\n",
    "            ('황 민 지', 17.65),\n",
    "            ('김 영 철', 16.7),\n",
    "            ('주 병 철', 15.67),\n",
    "            ('박 상 현', 14.16),\n",
    "            ('김 영 순', 14.81),\n",
    "            ('오 지 아', 15.13),\n",
    "            ('윤 지 은', 16.93),\n",
    "            ('문 재 호', 16.39)]\n",
    "\n",
    "import operator\n",
    "a = sorted(data, key=operator.itemgetter(1))\n",
    "for d in a: \n",
    "    print(d)"
   ]
  },
  {
   "cell_type": "markdown",
   "metadata": {},
   "source": [
    "Q15. 청소 당번 2 명 뽑기"
   ]
  },
  {
   "cell_type": "code",
   "execution_count": null,
   "metadata": {},
   "outputs": [],
   "source": [
    "import itertools\n",
    "cleaner = ['나지혜', '성성민', '윤지현', '김정숙']\n",
    "a = list(itertools.combinations(cleaner, 2))\n",
    "print(a)"
   ]
  },
  {
   "cell_type": "markdown",
   "metadata": {},
   "source": [
    "Q16. 문자열 나열하기\n"
   ]
  },
  {
   "cell_type": "code",
   "execution_count": null,
   "metadata": {},
   "outputs": [],
   "source": [
    "inport itertools\n",
    "alpha = ['a','b','c','d']\n",
    "a = itertools.permutations(alpha, 4)\n",
    "print(list(a))"
   ]
  },
  {
   "cell_type": "markdown",
   "metadata": {},
   "source": [
    "Q17. 5 명에게 할 일 부여하기"
   ]
  },
  {
   "cell_type": "code",
   "execution_count": null,
   "metadata": {},
   "outputs": [],
   "source": [
    "people = ['김승현', '김진호', '강춘자', '이예준', '김현주']\n",
    "chore = ['청소', '빨래', '설거지']\n",
    "import random\n",
    "a = random.sample(people, len(people))\n",
    "b = random.sample(chore, len(chore))\n",
    "\n",
    "import itertools\n",
    "result = list(itertools.zip_longest(a, b, fillvalue=\"휴식\"))\n",
    "print(result)\n"
   ]
  },
  {
   "cell_type": "markdown",
   "metadata": {},
   "source": [
    "Q18. 벽에 타일 붙이기"
   ]
  },
  {
   "cell_type": "code",
   "execution_count": null,
   "metadata": {},
   "outputs": [],
   "source": [
    "import math\n",
    "\n",
    "\n",
    "length = math.gcd(200,80)\n",
    "tiles_need = int(200/length*80/length)\n",
    "print(length)\n",
    "print(tiles_need)"
   ]
  }
 ],
 "metadata": {
  "language_info": {
   "name": "python"
  }
 },
 "nbformat": 4,
 "nbformat_minor": 2
}
