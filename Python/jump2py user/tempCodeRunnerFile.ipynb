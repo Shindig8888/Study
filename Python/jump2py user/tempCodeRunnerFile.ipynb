def fibo(nn):
    fib = []
    for i in range(nn):
        if i == 0:
            fib. append(0)
        elif i == 1:
            fib.append(1)
        else:
            fib.append(fib[-1]+fib[-2])
    return fib


n = int(input("몇 항까지 피보나치 함수를 출력하시겠습니까? : " ))
result = fibo(n)
print(result)